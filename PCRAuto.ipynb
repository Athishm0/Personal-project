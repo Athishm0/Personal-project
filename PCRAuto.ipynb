{
  "nbformat": 4,
  "nbformat_minor": 0,
  "metadata": {
    "colab": {
      "provenance": []
    },
    "kernelspec": {
      "name": "python3",
      "display_name": "Python 3"
    },
    "language_info": {
      "name": "python"
    }
  },
  "cells": [
    {
      "cell_type": "code",
      "execution_count": null,
      "metadata": {
        "id": "fNuEo7ICStzQ",
        "colab": {
          "base_uri": "https://localhost:8080/",
          "height": 1000
        },
        "outputId": "1bab8b31-f276-4020-bf35-917ad19dd0ee"
      },
      "outputs": [
        {
          "output_type": "stream",
          "name": "stdout",
          "text": [
            "0.5\n",
            "51.78000000000001 ATGTTCGCAATCGCATTCGC\n",
            "0.5\n",
            "51.78000000000001 ATGTTCGCAATCGCATTCGC\n",
            "0.47368421052631576\n",
            "48.93157894736843 ATGTTCGCAATCGCATTCG\n",
            "0.4444444444444444\n",
            "45.76666666666668 ATGTTCGCAATCGCATTC\n",
            "0.4117647058823529\n",
            "42.22941176470589 ATGTTCGCAATCGCATT\n",
            "0.4375\n",
            "40.812500000000014 ATGTTCGCAATCGCAT\n",
            "0.4666666666666667\n",
            "39.20666666666668 ATGTTCGCAATCGCA\n",
            "0.5\n",
            "37.37142857142858 ATGTTCGCAATCGC\n",
            "0.46153846153846156\n",
            "32.10000000000001 ATGTTCGCAATCG\n",
            "0.4166666666666667\n",
            "25.95000000000001 ATGTTCGCAATC\n",
            "0.36363636363636365\n",
            "18.681818181818187 ATGTTCGCAAT\n",
            "0.4\n",
            "14.060000000000016 ATGTTCGCAA\n",
            "0.4444444444444444\n",
            "8.411111111111126 ATGTTCGCA\n",
            "0.5\n",
            "1.3500000000000156 ATGTTCGC\n",
            "0.42857142857142855\n",
            "-13.585714285714275 ATGTTCG\n",
            "0.3333333333333333\n",
            "-33.499999999999986 ATGTTC\n",
            "0.2\n",
            "-61.37999999999998 ATGTT\n",
            "0.25\n",
            "-92.94999999999999 ATGT\n",
            "0.3333333333333333\n",
            "-145.56666666666663 ATG\n",
            "0.0\n",
            "-271.29999999999995 AT\n",
            "0.0\n",
            "-607.5 A\n"
          ]
        },
        {
          "output_type": "error",
          "ename": "ZeroDivisionError",
          "evalue": "float division by zero",
          "traceback": [
            "\u001b[0;31m---------------------------------------------------------------------------\u001b[0m",
            "\u001b[0;31mZeroDivisionError\u001b[0m                         Traceback (most recent call last)",
            "\u001b[0;32m<ipython-input-5-95acf79c537a>\u001b[0m in \u001b[0;36m<cell line: 128>\u001b[0;34m()\u001b[0m\n\u001b[1;32m    126\u001b[0m   \u001b[0;32mreturn\u001b[0m \u001b[0mcompare\u001b[0m\u001b[0;34m(\u001b[0m\u001b[0mrestriction2\u001b[0m\u001b[0;34m(\u001b[0m\u001b[0mdna\u001b[0m\u001b[0;34m,\u001b[0m\u001b[0mprimer2\u001b[0m\u001b[0;34m)\u001b[0m\u001b[0;34m,\u001b[0m\u001b[0mrestriction1\u001b[0m\u001b[0;34m(\u001b[0m\u001b[0mdna\u001b[0m\u001b[0;34m,\u001b[0m\u001b[0mprimer1\u001b[0m\u001b[0;34m)\u001b[0m\u001b[0;34m)\u001b[0m\u001b[0;34m\u001b[0m\u001b[0;34m\u001b[0m\u001b[0m\n\u001b[1;32m    127\u001b[0m \u001b[0;34m\u001b[0m\u001b[0m\n\u001b[0;32m--> 128\u001b[0;31m \u001b[0mprimer1\u001b[0m\u001b[0;34m=\u001b[0m\u001b[0mprime\u001b[0m\u001b[0;34m(\u001b[0m\u001b[0mprimer1\u001b[0m\u001b[0;34m,\u001b[0m\u001b[0ms\u001b[0m\u001b[0;34m,\u001b[0m\u001b[0mdna\u001b[0m\u001b[0;34m)\u001b[0m\u001b[0;34m\u001b[0m\u001b[0;34m\u001b[0m\u001b[0m\n\u001b[0m\u001b[1;32m    129\u001b[0m \u001b[0;34m\u001b[0m\u001b[0m\n\u001b[1;32m    130\u001b[0m \u001b[0;34m\u001b[0m\u001b[0m\n",
            "\u001b[0;32m<ipython-input-5-95acf79c537a>\u001b[0m in \u001b[0;36mprime\u001b[0;34m(primer, s, dna)\u001b[0m\n\u001b[1;32m     42\u001b[0m   \u001b[0;32mwhile\u001b[0m \u001b[0;32mnot\u001b[0m \u001b[0;36m65\u001b[0m\u001b[0;34m>\u001b[0m\u001b[0mTm\u001b[0m\u001b[0;34m>\u001b[0m\u001b[0;36m60\u001b[0m \u001b[0;32mor\u001b[0m \u001b[0mprimer\u001b[0m\u001b[0;34m[\u001b[0m\u001b[0;34m-\u001b[0m\u001b[0;36m1\u001b[0m\u001b[0;34m]\u001b[0m\u001b[0;34m==\u001b[0m\u001b[0;34m'A'\u001b[0m \u001b[0;32mor\u001b[0m \u001b[0mprimer\u001b[0m\u001b[0;34m[\u001b[0m\u001b[0;34m-\u001b[0m\u001b[0;36m1\u001b[0m\u001b[0;34m]\u001b[0m\u001b[0;34m==\u001b[0m\u001b[0;34m'T'\u001b[0m \u001b[0;32mor\u001b[0m \u001b[0mprimer\u001b[0m\u001b[0;34m[\u001b[0m\u001b[0;34m-\u001b[0m\u001b[0;36m1\u001b[0m\u001b[0;34m]\u001b[0m\u001b[0;34m==\u001b[0m\u001b[0mprimer\u001b[0m\u001b[0;34m[\u001b[0m\u001b[0;34m-\u001b[0m\u001b[0;36m2\u001b[0m\u001b[0;34m]\u001b[0m\u001b[0;34m:\u001b[0m\u001b[0;34m\u001b[0m\u001b[0;34m\u001b[0m\u001b[0m\n\u001b[1;32m     43\u001b[0m \u001b[0;34m\u001b[0m\u001b[0m\n\u001b[0;32m---> 44\u001b[0;31m     \u001b[0mTm\u001b[0m\u001b[0;34m=\u001b[0m\u001b[0mcount\u001b[0m\u001b[0;34m(\u001b[0m\u001b[0mprimer\u001b[0m\u001b[0;34m)\u001b[0m\u001b[0;34m\u001b[0m\u001b[0;34m\u001b[0m\u001b[0m\n\u001b[0m\u001b[1;32m     45\u001b[0m     \u001b[0ms\u001b[0m\u001b[0;34m-=\u001b[0m\u001b[0;36m1\u001b[0m\u001b[0;34m\u001b[0m\u001b[0;34m\u001b[0m\u001b[0m\n\u001b[1;32m     46\u001b[0m \u001b[0;34m\u001b[0m\u001b[0m\n",
            "\u001b[0;32m<ipython-input-5-95acf79c537a>\u001b[0m in \u001b[0;36mcount\u001b[0;34m(primer)\u001b[0m\n\u001b[1;32m     31\u001b[0m    \u001b[0mCount_GC\u001b[0m\u001b[0;34m=\u001b[0m\u001b[0mfloat\u001b[0m\u001b[0;34m(\u001b[0m\u001b[0mprimer\u001b[0m\u001b[0;34m.\u001b[0m\u001b[0mcount\u001b[0m\u001b[0;34m(\u001b[0m\u001b[0;34m\"G\"\u001b[0m\u001b[0;34m)\u001b[0m\u001b[0;34m)\u001b[0m\u001b[0;34m+\u001b[0m\u001b[0;34m(\u001b[0m\u001b[0mprimer\u001b[0m\u001b[0;34m.\u001b[0m\u001b[0mcount\u001b[0m\u001b[0;34m(\u001b[0m\u001b[0;34m\"C\"\u001b[0m\u001b[0;34m)\u001b[0m\u001b[0;34m)\u001b[0m\u001b[0;34m\u001b[0m\u001b[0;34m\u001b[0m\u001b[0m\n\u001b[1;32m     32\u001b[0m    \u001b[0mCount_AT\u001b[0m\u001b[0;34m=\u001b[0m\u001b[0mfloat\u001b[0m\u001b[0;34m(\u001b[0m\u001b[0mprimer\u001b[0m\u001b[0;34m.\u001b[0m\u001b[0mcount\u001b[0m\u001b[0;34m(\u001b[0m\u001b[0;34m\"A\"\u001b[0m\u001b[0;34m)\u001b[0m\u001b[0;34m+\u001b[0m\u001b[0mprimer\u001b[0m\u001b[0;34m.\u001b[0m\u001b[0mcount\u001b[0m\u001b[0;34m(\u001b[0m\u001b[0;34m\"T\"\u001b[0m\u001b[0;34m)\u001b[0m\u001b[0;34m)\u001b[0m\u001b[0;34m\u001b[0m\u001b[0;34m\u001b[0m\u001b[0m\n\u001b[0;32m---> 33\u001b[0;31m    \u001b[0mprint\u001b[0m\u001b[0;34m(\u001b[0m\u001b[0mCount_GC\u001b[0m\u001b[0;34m/\u001b[0m\u001b[0mlen\u001b[0m\u001b[0;34m(\u001b[0m\u001b[0mprimer\u001b[0m\u001b[0;34m)\u001b[0m\u001b[0;34m)\u001b[0m\u001b[0;34m\u001b[0m\u001b[0;34m\u001b[0m\u001b[0m\n\u001b[0m\u001b[1;32m     34\u001b[0m    \u001b[0mTm\u001b[0m\u001b[0;34m=\u001b[0m\u001b[0mfloat\u001b[0m\u001b[0;34m(\u001b[0m\u001b[0;36m64.9\u001b[0m\u001b[0;34m+\u001b[0m\u001b[0;36m41\u001b[0m\u001b[0;34m*\u001b[0m\u001b[0;34m(\u001b[0m\u001b[0mfloat\u001b[0m\u001b[0;34m(\u001b[0m\u001b[0mCount_GC\u001b[0m\u001b[0;34m-\u001b[0m\u001b[0;36m16.4\u001b[0m\u001b[0;34m)\u001b[0m\u001b[0;34m/\u001b[0m\u001b[0;34m(\u001b[0m\u001b[0mlen\u001b[0m\u001b[0;34m(\u001b[0m\u001b[0mprimer\u001b[0m\u001b[0;34m)\u001b[0m\u001b[0;34m)\u001b[0m\u001b[0;34m)\u001b[0m\u001b[0;34m)\u001b[0m\u001b[0;34m\u001b[0m\u001b[0;34m\u001b[0m\u001b[0m\n\u001b[1;32m     35\u001b[0m    \u001b[0;31m#Tm=MeltingTemp.Tm_NN(primer)\u001b[0m\u001b[0;34m\u001b[0m\u001b[0;34m\u001b[0m\u001b[0m\n",
            "\u001b[0;31mZeroDivisionError\u001b[0m: float division by zero"
          ]
        }
      ],
      "source": [
        "\n",
        "#!pip install biopython\n",
        "\n",
        "import Bio as bio\n",
        "from Bio.Seq import Seq\n",
        "from Bio.SeqUtils import MeltingTemp\n",
        "#c='tttccataggctccgcccccctgacgagcatcacaaaaatcgacgctcaagtcagaggtggcgaaacccgacaggactataaagataccaggcgtttccccctggaagctccctcgtgcgctctcctgttccgaccctgccgcttaccggatacctgtccgcctttctcccttcgggaagcgtggcgctttctcatagctcacgctgtaggtatctcagttcggtgtaggtcgttcgctccaagctgggctgtgtgcacgaaccccccgttcagcccgaccgctgcgccttatccggtaactatcgtcttgagtccaacccggtaagacacgacttatcgccactggcagcagccactggtaacaggattagcagagcgaggtatgtaggcggtgctacagagttcttgaagtggtggcctaactacggctacactagaagaacagtatttggtatctgcgctctgctgaagccagttaccttcggaaaaagagttggtagctcttgatccggcaaacaaaccaccgctggtagcggtggtttttttgtttgcaagcagcagattacgcgcagaaaaaaaggatctcaa'\n",
        "# c='atgttcaagaacctgatctggctgaaggaggtggacagcacccaggagagactgaaggagtggaacgtgtcctacggcaccgccctggtggccgacagacagaccaagggcagaggcggcccgggcagaaagtggctgagccaggagggcggcctgtacttcagcttcctgctgaaccccaaggagttcgagaacctgctgcagctgcccctggtgctgggcctgagcgtgagcgaggccctggaggagatcaccgagatccccttcagcctgaagtggcccaacgacgtgtacttccaggagaagaaggtgagcggcgtgctgtgcgagctgagcaaggacaagctgatcgtgggcatcggcatcaacgtgaaccagagagagatccccgaggagatcaaggacagagccaccaccctgtacgagatcaccggcaaggactgggacagaaaggaggtgctgctgaaggtgctgaagagaatcagcgagaacctgaagaagttcaaggagaag'\n",
        "c='atgt tcgcaatcgcattcgcagtggttttgtgccttttggtctcggtggatgccaaattccccgaagatccaaaaccttgtaagtatggtgatggcgaatgtatcatgaagctgtgcaacaccctgttca gcgaaaactc ggcggagggg gatcctggtc tgaacctgatgcagctggat ccgttgaagg tggatcggat ggttattagc cagggtgaga gctccagtcccgtgggcataactctaaccttcaccgacaa tctgttgtat gggatcaagg accaaaggatcgtcaaagta aagggtttcg gaagggatct caccgccaag cacgaagtga aaattgtcacgaaaaccttc tcactcgttg gaccctataa catccagggcaaggtactcattctaccgatcagcggaactggacagagtaacatgacaatggttaacgtcagggcaatcgtcagcttctcgggcaaaccgctggtgaagaatggggagacctacctggacgttaccgatctgaaaataacgatgaagccggagtccagccactaccatttcagtaatctgttcaatggggacaaggcgctgggtgacaacatgaatgtcttcctcaacgaaaactcggaggccatttacaaggagacggccaaagcaatcgaccgatcctttggcaaactttacctgggcgtcgtcaaaggtgtgttctccaaactgccgtatgccaagttttttgcggatgaatcgtga'\n",
        "\n",
        "dna=Seq(c.upper().replace(' ',\"\"))\n",
        "\n",
        "\n",
        "#dna=Seq(\"ATGTTTGACAGCTTATCATCGATAAGCTTTAATGCGGTAGTTTATCACAGTTAAATTGCTAACGCAGTCAGGCACCGTGTATGAAATCTAACAATGCGCTCATCGTCATCCTCGGCACCGTCACCCTGGATGCTGTAGGCATAGGCTTGGTTATGCCGGTACTGCCGGGCCTCTTGCGGGATATCGTCCATTCCGACAGCATCGCCAGTCACTATGGCGTGCTGCTAGCGCTATATGCGTTGATGCAATTTCTATGCGCACCCGTTCTCGGAGCACTGTCCGACCGCTTTGGCCGCCGCCCAGTCCTGCTCGCTTCGCTACTTGGAGCCACTATCGACTACGCGATCATGGCGACCACACCCGTCCTGTGGATCCTCTACGCCGGACGCATCGTGGCCGGCATCACCGGCGCCACAGGTGCGGTTGCTGGCGCCTATATCGCCGACATCACCGATGGGGAAGATCGGGCTCGCCACTTCGGGCTCATGAGCGCTTGTTTCGGCGTGGGTATGGTGGCAGGCCCCGTGGCCGGGGGACTGTTGGGCGCCATCTCCTTGCATGCACCATTCCTTGCGGCGGCGGTGCTCAACGGCCTCAACCTACTACTGGGCTGCTTCCTAATGCAGGAGTCGCATAAGGGAGAGCGTCGACCGATGCCCTTGAGAGCCTTCAACCCAGTCAGCTCCTTCCGGTGGGCGCGGGGCATGACTATCGTCGCCGCACTTATGACTGTCTTCTTTATCATGCAACTCGTAGGACAGGTGCCGGCAGCGCTCTGGGTCATTTTCGGCGAGGACCGCTTTCGCTGGAGCGCGACGATGATCGGCCTGTCGCTTGCGGTATTCGGAATCTTGCACGCCCTCGCTCAAGCCTTCGTCACTGGTCCCGCCACCAAACGTTTCGGCGAGAAGCAGGCCATTATCGCCGGCATGGCGGCCGACGCGCTGGGCTACGTCTTGCTGGCGTTCGCGACGCGAGGCTGGATGGCCTTCCCCATTATGATTCTTCTCGCTTCCGGCGGCATCGGGATGCCCGCGTTGCAGGCCATGCTGTCCAGGCAGGTAGATGACGACCATCAGGGACAGCTTCAAGGATCGCTCGCGGCTCTTACCAGCCTAACTTCGATCACTGGACCGCTGATCGTCACGGCGATTTATGCCGCCTCGGCGAGCACATGGAACGGGTTGGCATGGATTGTAGGCGCCGCCCTATACCTTGTCTGCCTCCCCGCGTTGCGTCGCGGTGCATGGAGCCGGGCCACCTCGACCTGAATGGAAGCCGGCGGCACCTCGCTAACGGATTCACCACTCCAAGAATTGGAGCCAATCAATTCTTGCGGAGAACTGTGAATGCGCAAACCAACCCTTGGCAGAACATATCCATCGCGTCCGCCATCTCCAGCAGCCGCACGCGGCGCATCTCGGGCAGCGTTGGGTCCTGGCCACGGGTGCGCATGATCGTGCTCCTGTCGTTGAGGACCCGGCTAGGCTGGCGGGGTTGCCTTACTGGTTAGCAGAATGAATCACCGATACGCGAGCGAACGTGAAGCGACTGCTGCTGCAAAACGTCTGCGACCTGAGCAACAACATGAATGGTCTTCGGTTTCCGTGTTTCGTAAAGTCTGGAAACGCGGAAGTCAGCGCCCTGCACCATTATGTTCCGGATCTGCATCGCAGGATGCTGCTGGCTACCCTGTGGAACACCTACATCTGTATTAACGAAGCGCTGGCATTGACCCTGAGTGATTTTTCTCTGGTCCCGCCGCATCCATACCGCCAGTTGTTTACCCTCACAACGTTCCAGTAACCGGGCATGTTCATCATCAGTAACCCGTATCGTGAGCATCCTCTCTCGTTTCATCGGTATCATTACCCCCATGAACAGAAATCCCCCTTACACGGAGGCATCAGTGACCAAACAGGAAAAAACCGCCCTTAACATGGCCCGCTTTATCAGAAGCCAGACATTAACGCTTCTGGAGAAACTCAACGAGCTGGACGCGGATGAACAGGCAGACATCTGTGAATCGCTTCACGACCACGCTGATGAGCTTTACCGCAGCTGCCTCGCGCGTTTCGGTGATGACGGTGAAAACCTCTGACACATGCAGCTCCCGGAGACGGTCACAGCTTGTCTGTAAGCGGATGCCGGGAGCAGACAAGCCCGTCAGGGCGCGTCAGCGGGTGTTGGCGGGTGTCGGGGCGCAGCCATGACCCAGTCACGTAGCGATAGCGGAGTGTATACTGGCTTAACTATGCGGCATCAGAGCAGATTGTACTGAGAGTGCACCATATGCGGTGTGAAATACCGCACAGATGCGTAAGGAGAAAATACCGCATCAGGCGCTCTTCCGCTTCCTCGCTCACTGACTCGCTGCGCTCGGTCGTTCGGCTGCGGCGAGCGGTATCAGCTCACTCAAAGGCGGTAATACGGTTATCCACAGAATCAGGGGATAACGCAGGAAAGAACATGTGAGCAAAAGGCCAGCAAAAGGCCAGGAACCGTAAAAAGGCCGCGTTGCTGGCGTTTTTCCATAGGCTCCGCCCCCCTGACGAGCATCACAAAAATCGACGCTCAAGTCAGAGGTGGCGAAACCCGACAGGACTATAAAGATACCAGGCGTTTCCCCCTGGAAGCTCCCTCGTGCGCTCTCCTGTTCCGACCCTGCCGCTTACCGGATACCTGTCCGCCTTTCTCCCTTCGGGAAGCGTGGCGCTTTCTCATAGCTCACGCTGTAGGTATCTCAGTTCGGTGTAGGTCGTTCGCTCCAAGCTGGGCTGTGTGCACGAACCCCCCGTTCAGCCCGACCGCTGCGCCTTATCCGGTAACTATCGTCTTGAGTCCAACCCGGTAAGACACGACTTATCGCCACTGGCAGCAGCCACTGGTAACAGGATTAGCAGAGCGAGGTATGTAGGCGGTGCTACAGAGTTCTTGAAGTGGTGGCCTAACTACGGCTACACTAGAAGGACAGTATTTGGTATCTGCGCTCTGCTGAAGCCAGTTACCTTCGGAAAAAGAGTTGGTAGCTCTTGATCCGGCAAACAAACCACCGCTGGTAGCGGTGGTTTTTTTGTTTGCAAGCAGCAGATTACGCGCAGAAAAAAAGGATCTCAAGAAGATCCTTTGATCTTTTCTACGGGGTCTGACGCTCAGTGGAACGAAAACTCACGTTAAGGGATTTTGGTCATGAGATTATCAAAAAGGATCTTCACCTAGATCCTTTTAAATTAAAAATGAAGTTTTAAATCAATCTAAAGTATATATGAGTAAACTTGGTCTGACAGTTACCAATGCTTAATCAGTGAGGCACCTATCTCAGCGATCTGTCTATTTCGTTCATCCATAGTTGCCTGACTCCCCGTCGTGTAGATAACTACGATACGGGAGGGCTTACCATCTGGCCCCAGTGCTGCAATGATACCGCGAGACCCACGCTCACCGGCTCCAGATTTATCAGCAATAAACCAGCCAGCCGGAAGGGCCGAGCGCAGAAGTGGTCCTGCAACTTTATCCGCCTCCATCCAGTCTATTAATTGTTGCCGGGAAGCTAGAGTAAGTAGTTCGCCAGTTAATAGTTTGCGCAACGTTGTTGCCATTGCTGCAGGCATCGTGGTGTCACGCTCGTCGTTTGGTATGGCTTCATTCAGCTCCGGTTCCCAACGATCAAGGCGAGTTACATGATCCCCCATGTTGTGCAAAAAAGCGGTTAGCTCCTTCGGTCCTCCGATCGTTGTCAGAAGTAAGTTGGCCGCAGTGTTATCACTCATGGTTATGGCAGCACTGCATAATTCTCTTACTGTCATGCCATCCGTAAGATGCTTTTCTGTGACTGGTGAGTACTCAACCAAGTCATTCTGAGAATAGTGTATGCGGCGACCGAGTTGCTCTTGCCCGGCGTCAACACGGGATAATACCGCGCCACATAGCAGAACTTTAAAAGTGCTCATCATTGGAAAACGTTCTTCGGGGCGAAAACTCTCAAGGATCTTACCGCTGTTGAGATCCAGTTCGATGTAACCCACTCGTGCACCCAACTGATCTTCAGCATCTTTTACTTTCACCAGCGTTTCTGGGTGAGCAAAAACAGGAAGGCAAAATGCCGCAAAAAAGGGAATAAGGGCGACACGGAAATGTTGAATACTCATACTCTTCCTTTTTCAATATTATTGAAGCATTTATCAGGGTTATTGTCTCATGAGCGGATACATATTTGAATGTATTTAGAAAAATAAACAAATAGGGGTTCCGCGCACATTTCCCCGAAAAGTGCCACCTGACGTCTAAGAAACCATTATTATCATGACATTAACCTATAAAAATAGGCGTATCACGAGGCCCTTTCGTCTTCAAGAA\")\n",
        "dnaR=dna.reverse_complement()\n",
        "\n",
        "#CCTTCATCTTGTAAACGTTGAGCAAAATTGTTAAAAATATGAGGCGGGTTATATTGCCTACTGCTCCTCCTGAATATATGGAGGCCATATACCCTGTCAGGTCAAATTCAACAATTGCTAGAGGTGGCAACAGCAATACAGGCTTCCTGACACCGGAGTCAGTCAATGGGGACACTCCATCGAATCCACTCAGGCCAATTGCCGATGACACCATCGACCATGCCAGCCACACACCAGGCAGTGTGTCATCAGCATTCATCCTTGAAGCTATGG\n",
        "s=20\n",
        "primer1=dna[0:s]\n",
        "primer2=dnaR[0:s]\n",
        "#print(primer1,primer2)\n",
        "#>NC_000964.3:1227697-1228092 Bacillus subtilis subsp. subtilis str. 168 complete genome\n",
        "#ATGGTTACACTATACACATCACCAAGCTGTACTTCATGCAGAAAGGCGAGAGCGTGGCTCGAGGAGCACG\n",
        "#AGATTCCATTTGTAGAAAGAAACATTTTCTCTGAACCTTTATCAATTGATGAAATAAAACAAATTCTTCG\n",
        "#AATGACTGAGGACGGAACAGATGAAATCATCTCAACCCGTTCAAAAGTATTCCAAAAACTGAATGTGAAC\n",
        "#GTTGAATCTATGCCGCTGCAAGATTTGTACCGCTTGATCAACGAGCATCCAGGTTTGCTTCGCCGTCCGA\n",
        "#TCATCATTGACGAAAAACGTTTGCAGGTCGGATATAACGAAGACGAAATCAGACGTTTCCTGCCAAGAAA\n",
        "#AGTTCGCTCTTTCCAATTAAGAGAAGCACAGCGTTTGGCAAACTAA\n",
        "\n",
        "\n",
        "def count(primer):#http://biotools.nubic.northwestern.edu/OligoCalc.html\n",
        "   Count_GC=float(primer.count(\"G\"))+(primer.count(\"C\"))\n",
        "   Count_AT=float(primer.count(\"A\")+primer.count(\"T\"))\n",
        "   print(Count_GC/len(primer))\n",
        "   Tm=float(64.9+41*(float(Count_GC-16.4)/(len(primer))))\n",
        "   #Tm=MeltingTemp.Tm_NN(primer)\n",
        "   print(Tm,primer)\n",
        "   return Tm\n",
        "\n",
        "\n",
        "def prime(primer,s,dna):\n",
        "  Tm=count(primer)\n",
        "  while not 65>Tm>60 or primer[-1]=='A' or primer[-1]=='T' or primer[-1]==primer[-2]:\n",
        "\n",
        "    Tm=count(primer)\n",
        "    s-=1\n",
        "\n",
        "    primer=dna[0:s]\n",
        "\n",
        "    #print(primer)\n",
        "\n",
        "  return primer\n",
        "\n",
        "def compare(Primer1,Primer2):\n",
        "  Tm1=count(Primer1)\n",
        "  Tm2=count(Primer2)\n",
        "  d1=0\n",
        "  d2=0\n",
        "  if abs(Tm1-Tm2)>=1:\n",
        "\n",
        "    Primer1=prime(Primer1,s,dna)\n",
        "    Primer2=prime(Primer2,s,dna)\n",
        "\n",
        "\n",
        "  return Primer1,Primer2\n",
        "  print(Primer1,Primer2)\n",
        "\n",
        "def restriction1(DNA,primer1):\n",
        "\n",
        "  DNAR=DNA.complement()\n",
        "  site_Ndel=\"CATATG\"\n",
        "  site_Nhel=\"GCTAGC\"\n",
        "\n",
        "\n",
        "\n",
        "\n",
        "  #for i in range(len(DNA)):\n",
        "  g=0\n",
        "\n",
        "  if   site_Ndel in DNA  or   site_Ndel in DNAR:\n",
        "          #g=\"Site Ndel   Already in Dna, site for Nhel will be used\"\n",
        "\n",
        "\n",
        "   if   site_Nhel in DNA or site_Nhel in DNAR  :\n",
        "           g=\"Both sites are present use another restriction site\"\n",
        "\n",
        "   else:\n",
        "            primer1=str(\"ATCG\"+site_Nhel+primer1)#+\" Nhe1\")\n",
        "\n",
        "\n",
        "  else:\n",
        "      primer1=str(\"ATCG \"+site_Ndel+primer1)# +\" Ndel\")\n",
        "\n",
        "\n",
        "  return primer1#,g\n",
        "\n",
        "\n",
        "def restriction2(DNA,primer2):\n",
        "  DNAR=DNA.complement()\n",
        "  site_Bamhl=\"GGATCC\"\n",
        "  site_Ecorl=\"GAATTC\"\n",
        "\n",
        "  #for j in range(len(DNA)):\n",
        "  z=0\n",
        "  if  site_Ecorl in DNA or site_Ecorl in DNAR :\n",
        "          z=\"Site Ecor1   Already in Dna, site for BamH1 will be used\"\n",
        "\n",
        "\n",
        "          if  site_Bamhl in DNA or site_Bamhl in DNAR :\n",
        "           z=\"Both sites are present use another restriction site\"\n",
        "\n",
        "          else:\n",
        "            primer2=str(\"TACG\"+site_Bamhl+primer2)#+\" BamH1\")\n",
        "\n",
        "\n",
        "  else:\n",
        "            primer2=str(\"TACG\"+site_Ecorl+primer2)# +\" Ecor1\")\n",
        "\n",
        "  return primer2#,z\n",
        "  #print(primer1,primer2)\n",
        "  #print(g,z)\n",
        "\n",
        "def both(primer1,primer2,dna):\n",
        "  #compare(restriction2(dna,primer2),restriction1(dna,primer1))\n",
        "\n",
        "\n",
        "  return compare(restriction2(dna,primer2),restriction1(dna,primer1))\n",
        "\n",
        "primer1=prime(primer1,s,dna)\n",
        "\n",
        "\n",
        "\n",
        "primer2=prime(primer2,s,dnaR)\n",
        "\n",
        "\n",
        "\n",
        "both(primer1,primer2,dna)\n",
        "#restriction1(dna,primer1)\n",
        "\n",
        "\n",
        "\n",
        "\n"
      ]
    },
    {
      "cell_type": "code",
      "source": [
        "restriction1(dna,primer1)\n"
      ],
      "metadata": {
        "id": "e1BVjSd1hNhf",
        "outputId": "d8be2849-599f-4827-80cf-d1075eed3883",
        "colab": {
          "base_uri": "https://localhost:8080/",
          "height": 36
        }
      },
      "execution_count": null,
      "outputs": [
        {
          "output_type": "execute_result",
          "data": {
            "text/plain": [
              "'ATCG CATATGATGTTCAAGAACCTGATCTGGCTGAAGGAG'"
            ],
            "application/vnd.google.colaboratory.intrinsic+json": {
              "type": "string"
            }
          },
          "metadata": {},
          "execution_count": 2
        }
      ]
    },
    {
      "cell_type": "code",
      "source": [
        "restriction2(dna,primer2)"
      ],
      "metadata": {
        "id": "vhC8NzbmEPL_",
        "colab": {
          "base_uri": "https://localhost:8080/",
          "height": 36
        },
        "outputId": "7abc0164-a7bf-4186-fe0b-9ab896315b57"
      },
      "execution_count": null,
      "outputs": [
        {
          "output_type": "execute_result",
          "data": {
            "text/plain": [
              "'TACGGAATTCCTTCTCCTTGAACTTCTTCAGGTTCTCGCTGATTC'"
            ],
            "application/vnd.google.colaboratory.intrinsic+json": {
              "type": "string"
            }
          },
          "metadata": {},
          "execution_count": 3
        }
      ]
    },
    {
      "cell_type": "code",
      "source": [
        "both(primer1,primer2,dna)"
      ],
      "metadata": {
        "colab": {
          "base_uri": "https://localhost:8080/"
        },
        "id": "sbmP6h_vndSZ",
        "outputId": "49b90eda-04c5-46e7-8344-8cd807815364"
      },
      "execution_count": null,
      "outputs": [
        {
          "output_type": "stream",
          "name": "stdout",
          "text": [
            "0.4444444444444444\n",
            "68.18 TACGGAATTCCTTCTCCTTGAACTTCTTCAGGTTCTCGCTGATTC\n",
            "0.43902439024390244\n",
            "66.5 ATCG CATATGATGTTCAAGAACCTGATCTGGCTGAAGGAG\n",
            "0.4444444444444444\n",
            "68.18 TACGGAATTCCTTCTCCTTGAACTTCTTCAGGTTCTCGCTGATTC\n",
            "0.4444444444444444\n",
            "68.18 TACGGAATTCCTTCTCCTTGAACTTCTTCAGGTTCTCGCTGATTC\n",
            "0.5128205128205128\n",
            "68.6846153846154 ATGTTCAAGAACCTGATCTGGCTGAAGGAGGTGGACAGC\n",
            "0.5\n",
            "67.70526315789475 ATGTTCAAGAACCTGATCTGGCTGAAGGAGGTGGACAG\n",
            "0.4864864864864865\n",
            "66.67297297297299 ATGTTCAAGAACCTGATCTGGCTGAAGGAGGTGGACA\n",
            "0.5\n",
            "66.72222222222223 ATGTTCAAGAACCTGATCTGGCTGAAGGAGGTGGAC\n",
            "0.4857142857142857\n",
            "65.60285714285715 ATGTTCAAGAACCTGATCTGGCTGAAGGAGGTGGA\n",
            "0.5\n",
            "65.62352941176471 ATGTTCAAGAACCTGATCTGGCTGAAGGAGGTGG\n",
            "0.48484848484848486\n",
            "64.4030303030303 ATGTTCAAGAACCTGATCTGGCTGAAGGAGGTG\n",
            "0.46875\n",
            "63.10625000000001 ATGTTCAAGAACCTGATCTGGCTGAAGGAGGT\n",
            "0.4838709677419355\n",
            "63.0483870967742 ATGTTCAAGAACCTGATCTGGCTGAAGGAGG\n",
            "0.43902439024390244\n",
            "66.5 ATCG CATATGATGTTCAAGAACCTGATCTGGCTGAAGGAG\n",
            "0.43902439024390244\n",
            "66.5 ATCG CATATGATGTTCAAGAACCTGATCTGGCTGAAGGAG\n",
            "0.5128205128205128\n",
            "68.6846153846154 ATGTTCAAGAACCTGATCTGGCTGAAGGAGGTGGACAGC\n",
            "0.5\n",
            "67.70526315789475 ATGTTCAAGAACCTGATCTGGCTGAAGGAGGTGGACAG\n",
            "0.4864864864864865\n",
            "66.67297297297299 ATGTTCAAGAACCTGATCTGGCTGAAGGAGGTGGACA\n",
            "0.5\n",
            "66.72222222222223 ATGTTCAAGAACCTGATCTGGCTGAAGGAGGTGGAC\n",
            "0.4857142857142857\n",
            "65.60285714285715 ATGTTCAAGAACCTGATCTGGCTGAAGGAGGTGGA\n",
            "0.5\n",
            "65.62352941176471 ATGTTCAAGAACCTGATCTGGCTGAAGGAGGTGG\n",
            "0.48484848484848486\n",
            "64.4030303030303 ATGTTCAAGAACCTGATCTGGCTGAAGGAGGTG\n",
            "0.46875\n",
            "63.10625000000001 ATGTTCAAGAACCTGATCTGGCTGAAGGAGGT\n",
            "0.4838709677419355\n",
            "63.0483870967742 ATGTTCAAGAACCTGATCTGGCTGAAGGAGG\n"
          ]
        },
        {
          "output_type": "execute_result",
          "data": {
            "text/plain": [
              "(Seq('ATGTTCAAGAACCTGATCTGGCTGAAGGAG'), Seq('ATGTTCAAGAACCTGATCTGGCTGAAGGAG'))"
            ]
          },
          "metadata": {},
          "execution_count": 4
        }
      ]
    },
    {
      "cell_type": "code",
      "source": [
        "!pip install biopython"
      ],
      "metadata": {
        "colab": {
          "base_uri": "https://localhost:8080/"
        },
        "id": "hZDuHyQ2DDN-",
        "outputId": "45e162fd-4317-45d9-84e2-ff6273d25fe2"
      },
      "execution_count": null,
      "outputs": [
        {
          "output_type": "stream",
          "name": "stdout",
          "text": [
            "Collecting biopython\n",
            "  Downloading biopython-1.84-cp310-cp310-manylinux_2_17_x86_64.manylinux2014_x86_64.whl.metadata (12 kB)\n",
            "Requirement already satisfied: numpy in /usr/local/lib/python3.10/dist-packages (from biopython) (1.26.4)\n",
            "Downloading biopython-1.84-cp310-cp310-manylinux_2_17_x86_64.manylinux2014_x86_64.whl (3.2 MB)\n",
            "\u001b[?25l   \u001b[90m━━━━━━━━━━━━━━━━━━━━━━━━━━━━━━━━━━━━━━━━\u001b[0m \u001b[32m0.0/3.2 MB\u001b[0m \u001b[31m?\u001b[0m eta \u001b[36m-:--:--\u001b[0m\r\u001b[2K   \u001b[91m━━━━━━━━━\u001b[0m\u001b[90m╺\u001b[0m\u001b[90m━━━━━━━━━━━━━━━━━━━━━━━━━━━━━━\u001b[0m \u001b[32m0.7/3.2 MB\u001b[0m \u001b[31m21.9 MB/s\u001b[0m eta \u001b[36m0:00:01\u001b[0m\r\u001b[2K   \u001b[91m━━━━━━━━━━━━━━━━━━━━━━━━━━━━━━━━━━━━━━━\u001b[0m\u001b[91m╸\u001b[0m \u001b[32m3.2/3.2 MB\u001b[0m \u001b[31m54.3 MB/s\u001b[0m eta \u001b[36m0:00:01\u001b[0m\r\u001b[2K   \u001b[90m━━━━━━━━━━━━━━━━━━━━━━━━━━━━━━━━━━━━━━━━\u001b[0m \u001b[32m3.2/3.2 MB\u001b[0m \u001b[31m37.4 MB/s\u001b[0m eta \u001b[36m0:00:00\u001b[0m\n",
            "\u001b[?25hInstalling collected packages: biopython\n",
            "Successfully installed biopython-1.84\n"
          ]
        }
      ]
    },
    {
      "cell_type": "code",
      "source": [
        "import Bio as bio\n",
        "from Bio.Seq import Seq"
      ],
      "metadata": {
        "id": "kY3VAMKIDHlO"
      },
      "execution_count": null,
      "outputs": []
    },
    {
      "cell_type": "code",
      "source": [
        "f=Seq('GTCGACTCAGCTCATTTTCACGCGTTTCCTTGG')"
      ],
      "metadata": {
        "id": "LsTxhREMzqrW"
      },
      "execution_count": null,
      "outputs": []
    },
    {
      "cell_type": "code",
      "source": [
        "primer=f.reverse_complement()"
      ],
      "metadata": {
        "id": "Qr8Gpa7eznix"
      },
      "execution_count": null,
      "outputs": []
    },
    {
      "cell_type": "code",
      "source": [
        "#https://www.youtube.com/watch?v=fMIP7x-B2xs"
      ],
      "metadata": {
        "id": "VQpVR6qFT5se"
      },
      "execution_count": null,
      "outputs": []
    },
    {
      "cell_type": "code",
      "source": [
        "primer='GTGTATGAATTCATGTTTGAGCCCTATGTGAAAATCAAGAAAAAGC'"
      ],
      "metadata": {
        "id": "x2FVjLYviZZk"
      },
      "execution_count": null,
      "outputs": []
    },
    {
      "cell_type": "code",
      "source": [
        "   Count_GC=float(primer.count(\"G\"))+(primer.count(\"C\"))\n",
        "   Count_AT=float(primer.count(\"A\")+primer.count(\"T\"))\n",
        "   print(Count_GC/len(primer))\n",
        "   Tm=float(64.9+41*(float(Count_GC-16.4)/(len(primer))))"
      ],
      "metadata": {
        "id": "I0y6yGnVjvEd",
        "colab": {
          "base_uri": "https://localhost:8080/"
        },
        "outputId": "654560eb-698e-4272-d566-d095db0d6535"
      },
      "execution_count": null,
      "outputs": [
        {
          "output_type": "stream",
          "name": "stdout",
          "text": [
            "0.34782608695652173\n"
          ]
        }
      ]
    },
    {
      "cell_type": "code",
      "source": [
        "Tm"
      ],
      "metadata": {
        "colab": {
          "base_uri": "https://localhost:8080/"
        },
        "id": "KyslRMAQjQRw",
        "outputId": "08875ab6-9a64-4823-cb67-cfecea27e634"
      },
      "execution_count": null,
      "outputs": [
        {
          "output_type": "execute_result",
          "data": {
            "text/plain": [
              "64.54347826086958"
            ]
          },
          "metadata": {},
          "execution_count": 32
        }
      ]
    }
  ]
}